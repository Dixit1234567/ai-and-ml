{
 "cells": [
  {
   "cell_type": "code",
   "execution_count": 1,
   "id": "4a8a234f",
   "metadata": {},
   "outputs": [
    {
     "name": "stdout",
     "output_type": "stream",
     "text": [
      "Covariance:\n",
      "               sepal_length  sepal_width  petal_length  petal_width\n",
      "sepal_length      0.685694    -0.042434      1.274315     0.516271\n",
      "sepal_width      -0.042434     0.189979     -0.329656    -0.121639\n",
      "petal_length      1.274315    -0.329656      3.116278     1.295609\n",
      "petal_width       0.516271    -0.121639      1.295609     0.581006\n",
      "\n",
      "Corelation:\n",
      "               sepal_length  sepal_width  petal_length  petal_width\n",
      "sepal_length      1.000000    -0.117570      0.871754     0.817941\n",
      "sepal_width      -0.117570     1.000000     -0.428440    -0.366126\n",
      "petal_length      0.871754    -0.428440      1.000000     0.962865\n",
      "petal_width       0.817941    -0.366126      0.962865     1.000000\n"
     ]
    }
   ],
   "source": [
    "import pandas as pd\n",
    "from sklearn import datasets\n",
    "iris = datasets.load_iris()\n",
    "df = pd.DataFrame(iris.data, columns=[\"sepal_length\", \"sepal_width\", \"petal_length\", \"petal_width\"])\n",
    "df[\"class\"] = iris.target\n",
    "cov=df.iloc[:, 0:4].cov()\n",
    "cor=df.iloc[:, 0:4].corr()\n",
    "print(\"Covariance:\\n\",cov)\n",
    "print(\"\\nCorelation:\\n\",cor)"
   ]
  },
  {
   "cell_type": "code",
   "execution_count": 2,
   "id": "ad821f4b",
   "metadata": {},
   "outputs": [
    {
     "name": "stdout",
     "output_type": "stream",
     "text": [
      "WARNING:tensorflow:From C:\\ProgramData\\anaconda3\\Lib\\site-packages\\keras\\src\\losses.py:2976: The name tf.losses.sparse_softmax_cross_entropy is deprecated. Please use tf.compat.v1.losses.sparse_softmax_cross_entropy instead.\n",
      "\n",
      "Scalar :  50\n",
      "\n",
      "Matrix:\n",
      " [[0 2]\n",
      " [2 3]]\n",
      "\n",
      "Vector:\n",
      " [[0 2]]\n",
      "\n",
      "Tensor:\n",
      "\n",
      "Numerics:\n",
      " tf.Tensor(\n",
      "[[4 4 4]\n",
      " [4 4 4]\n",
      " [4 4 4]], shape=(3, 3), dtype=int32)\n",
      "\n",
      "String:\n",
      " tf.Tensor(\n",
      "[[b'str' b'str']\n",
      " [b'str' b'str']], shape=(2, 2), dtype=string)\n",
      "\n",
      "Gradient:\n",
      " [array([[2., 1.],\n",
      "       [2., 1.]]), array([[2., 2.],\n",
      "       [1., 1.]])]\n",
      "\n",
      "Eigen values:\n",
      " [-1.  4.]\n",
      "\n",
      "Eigen vectors:\n",
      " [[-0.89442719 -0.4472136 ]\n",
      " [ 0.4472136  -0.89442719]]\n",
      "\n",
      "Matrix norm: 4.123105625617661\n"
     ]
    }
   ],
   "source": [
    "import numpy as n\n",
    "import tensorflow as t\n",
    "\n",
    "s=50\n",
    "print(\"Scalar : \",s)\n",
    "\n",
    "m=n.array([[0, 2],[2, 3]])\n",
    "v=n.array([[0, 2]])\n",
    "print(\"\\nMatrix:\\n\",m)\n",
    "print(\"\\nVector:\\n\",v)\n",
    "\n",
    "print(\"\\nTensor:\")\n",
    "fill_2d = t.fill([3, 3],4, '2d')\n",
    "fill_string = t.fill([2, 2], \"str\", 'fill_tensor_string')\n",
    "print(\"\\nNumerics:\\n\",fill_2d)\n",
    "print(\"\\nString:\\n\",fill_string)\n",
    "\n",
    "g=n.gradient(m)\n",
    "print(\"\\nGradient:\\n\",g)\n",
    "\n",
    "w,v = n.linalg.eig(m)\n",
    "mat_norm = n.linalg.norm(m)\n",
    "print(\"\\nEigen values:\\n\",w)\n",
    "print(\"\\nEigen vectors:\\n\",v)\n",
    "print(\"\\nMatrix norm:\", mat_norm)"
   ]
  },
  {
   "cell_type": "code",
   "execution_count": null,
   "id": "809a33f8",
   "metadata": {},
   "outputs": [],
   "source": []
  }
 ],
 "metadata": {
  "kernelspec": {
   "display_name": "Python 3 (ipykernel)",
   "language": "python",
   "name": "python3"
  },
  "language_info": {
   "codemirror_mode": {
    "name": "ipython",
    "version": 3
   },
   "file_extension": ".py",
   "mimetype": "text/x-python",
   "name": "python",
   "nbconvert_exporter": "python",
   "pygments_lexer": "ipython3",
   "version": "3.11.5"
  }
 },
 "nbformat": 4,
 "nbformat_minor": 5
}
